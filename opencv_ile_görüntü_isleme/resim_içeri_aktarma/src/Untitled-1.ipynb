{
 "cells": [
  {
   "cell_type": "code",
   "execution_count": 1,
   "id": "2eefc50b",
   "metadata": {},
   "outputs": [],
   "source": [
    "import cv2\n",
    "import numpy as np \n",
    "import os "
   ]
  },
  {
   "cell_type": "code",
   "execution_count": 2,
   "id": "cb242914",
   "metadata": {},
   "outputs": [
    {
     "data": {
      "text/plain": [
       "'d:\\\\Desktop\\\\goruntu_isleme-derin_ogrenme\\\\opencv_ile_görüntü_isleme\\\\resim_içeri_aktarma\\\\src'"
      ]
     },
     "execution_count": 2,
     "metadata": {},
     "output_type": "execute_result"
    }
   ],
   "source": [
    "os.getcwd()"
   ]
  },
  {
   "cell_type": "code",
   "execution_count": 3,
   "id": "c7b48171",
   "metadata": {},
   "outputs": [],
   "source": [
    "os.chdir(\"d:\\\\Desktop\\\\goruntu_isleme-derin_ogrenme\\\\opencv_ile_görüntü_isleme\\\\resim_içeri_aktarma\\\\input\")"
   ]
  },
  {
   "cell_type": "code",
   "execution_count": 4,
   "id": "093507b4",
   "metadata": {},
   "outputs": [
    {
     "data": {
      "text/plain": [
       "array([[ 33,  33,  33, ...,  32,  32,  32],\n",
       "       [ 33,  33,  33, ...,  32,  32,  32],\n",
       "       [ 33,  33,  33, ...,  32,  32,  32],\n",
       "       ...,\n",
       "       [151, 151, 151, ..., 116, 116, 116],\n",
       "       [151, 151, 151, ..., 116, 116, 116],\n",
       "       [151, 151, 151, ..., 116, 117, 117]], dtype=uint8)"
      ]
     },
     "execution_count": 4,
     "metadata": {},
     "output_type": "execute_result"
    }
   ],
   "source": [
    "img = cv2.imread(\"messi.jpg\" ,0) #grayscale resim olarak değişkene görüntüyü martis olarak aktardik\n",
    "img"
   ]
  },
  {
   "cell_type": "code",
   "execution_count": null,
   "id": "154c219c",
   "metadata": {},
   "outputs": [],
   "source": [
    "cv2.imshow(\"resim\" ,img)\n",
    "k = cv2.waitKey(0) & 0xFF\n",
    "\n",
    "if k == 27: #esc tusuna basılırsa\n",
    "    cv2.destroyAllWindows() # acılan pencere kapanır"
   ]
  },
  {
   "cell_type": "code",
   "execution_count": null,
   "id": "82d5d141",
   "metadata": {},
   "outputs": [],
   "source": []
  }
 ],
 "metadata": {
  "kernelspec": {
   "display_name": "Python 3",
   "language": "python",
   "name": "python3"
  },
  "language_info": {
   "codemirror_mode": {
    "name": "ipython",
    "version": 3
   },
   "file_extension": ".py",
   "mimetype": "text/x-python",
   "name": "python",
   "nbconvert_exporter": "python",
   "pygments_lexer": "ipython3",
   "version": "3.11.4"
  }
 },
 "nbformat": 4,
 "nbformat_minor": 5
}
