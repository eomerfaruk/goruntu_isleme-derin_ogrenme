{
 "cells": [
  {
   "cell_type": "code",
   "execution_count": 2,
   "id": "cd5ba8a7",
   "metadata": {},
   "outputs": [],
   "source": [
    "import os \n",
    "import cv2 \n",
    "import numpy as np \n",
    "from matplotlib import pyplot as plt"
   ]
  },
  {
   "cell_type": "code",
   "execution_count": 3,
   "id": "d84e0b08",
   "metadata": {},
   "outputs": [],
   "source": [
    "os.chdir(\"d:\\\\Desktop\\\\goruntu_isleme-derin_ogrenme\\\\opencv_nesne_tespiti\\\\yaya_algilama\\\\input\")"
   ]
  },
  {
   "cell_type": "code",
   "execution_count": 4,
   "id": "761447c4",
   "metadata": {},
   "outputs": [],
   "source": [
    "files = os.listdir() # bulunduğumuz konumdaki  dosya isimlerini bir listeye alır"
   ]
  },
  {
   "cell_type": "code",
   "execution_count": 5,
   "id": "5d3efabb",
   "metadata": {},
   "outputs": [
    {
     "data": {
      "text/plain": [
       "['img1.jpg', 'img2.jpg', 'img3.jpg']"
      ]
     },
     "execution_count": 5,
     "metadata": {},
     "output_type": "execute_result"
    }
   ],
   "source": [
    "files"
   ]
  },
  {
   "cell_type": "code",
   "execution_count": 6,
   "id": "d9897997",
   "metadata": {},
   "outputs": [],
   "source": [
    "img_path_list = []"
   ]
  },
  {
   "cell_type": "code",
   "execution_count": 7,
   "id": "8b6949db",
   "metadata": {},
   "outputs": [],
   "source": [
    "for f in files:\n",
    "    if f.endswith(\".jpg\"): # dosya isimleri \".jpg\" ile bitiyosa listeye ekle\n",
    "        img_path_list.append(f)        "
   ]
  },
  {
   "cell_type": "code",
   "execution_count": 8,
   "id": "9f4a8dae",
   "metadata": {},
   "outputs": [],
   "source": [
    "# hog tanımlayıcısı\n",
    "hog = cv2.HOGDescriptor()"
   ]
  },
  {
   "cell_type": "code",
   "execution_count": 9,
   "id": "a3282509",
   "metadata": {},
   "outputs": [],
   "source": [
    "# tanımlayıcıya svm ekle\n",
    "\n",
    "hog.setSVMDetector(cv2.HOGDescriptor_getDefaultPeopleDetector())"
   ]
  },
  {
   "cell_type": "code",
   "execution_count": 10,
   "id": "c3ae135d",
   "metadata": {},
   "outputs": [],
   "source": [
    "for img_path in img_path_list:\n",
    "    img = cv2.imread(img_path)\n",
    "    \n",
    "    (rect,weight) = hog.detectMultiScale(img , padding=(8,8), scale = 1.05 )\n",
    "    \n",
    "    for (x,y,w,h) in rect:\n",
    "        cv2.rectangle(img,(x,y),(x+w,y+h),(255,255,255),2)\n",
    "\n",
    "    cv2.imshow(\"img\",img)\n",
    "    if cv2.waitKey(0) & 0xFF == ord(\"q\"):\n",
    "        continue\n",
    "cv2.destroyAllWindows()\n"
   ]
  },
  {
   "cell_type": "code",
   "execution_count": null,
   "id": "48f2a092",
   "metadata": {},
   "outputs": [],
   "source": []
  }
 ],
 "metadata": {
  "kernelspec": {
   "display_name": "Python 3",
   "language": "python",
   "name": "python3"
  },
  "language_info": {
   "codemirror_mode": {
    "name": "ipython",
    "version": 3
   },
   "file_extension": ".py",
   "mimetype": "text/x-python",
   "name": "python",
   "nbconvert_exporter": "python",
   "pygments_lexer": "ipython3",
   "version": "3.11.4"
  }
 },
 "nbformat": 4,
 "nbformat_minor": 5
}
