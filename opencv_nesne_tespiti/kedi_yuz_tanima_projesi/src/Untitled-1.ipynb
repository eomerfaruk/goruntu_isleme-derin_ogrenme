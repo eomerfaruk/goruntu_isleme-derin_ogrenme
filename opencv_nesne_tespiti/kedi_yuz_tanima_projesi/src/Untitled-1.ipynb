{
 "cells": [
  {
   "cell_type": "code",
   "execution_count": 2,
   "id": "9be4f474",
   "metadata": {},
   "outputs": [],
   "source": [
    "import os \n",
    "import cv2 \n",
    "import numpy as np \n",
    "from matplotlib import pyplot as plt "
   ]
  },
  {
   "cell_type": "code",
   "execution_count": 3,
   "id": "3c319605",
   "metadata": {},
   "outputs": [],
   "source": [
    "os.chdir(\"d:\\\\Desktop\\\\goruntu_isleme-derin_ogrenme\\\\opencv_nesne_tespiti\\\\kedi_yuz_tanima_projesi\\\\input\")"
   ]
  },
  {
   "cell_type": "code",
   "execution_count": 4,
   "id": "4805184f",
   "metadata": {},
   "outputs": [],
   "source": [
    "files = os.listdir()"
   ]
  },
  {
   "cell_type": "code",
   "execution_count": 5,
   "id": "036e6db1",
   "metadata": {},
   "outputs": [
    {
     "data": {
      "text/plain": [
       "['cat_img1.jpg',\n",
       " 'cat_img2.jpg',\n",
       " 'cat_img3.jpg',\n",
       " 'haarcascade_frontalcatface.xml']"
      ]
     },
     "execution_count": 5,
     "metadata": {},
     "output_type": "execute_result"
    }
   ],
   "source": [
    "files"
   ]
  },
  {
   "cell_type": "code",
   "execution_count": 6,
   "id": "18c3ce72",
   "metadata": {},
   "outputs": [],
   "source": [
    "img_path_list = []"
   ]
  },
  {
   "cell_type": "code",
   "execution_count": 7,
   "id": "fb678a75",
   "metadata": {},
   "outputs": [],
   "source": [
    "for f in files:\n",
    "    if f.endswith(\".jpg\"):\n",
    "        img_path_list.append(f)"
   ]
  },
  {
   "cell_type": "code",
   "execution_count": 9,
   "id": "92c5a1b0",
   "metadata": {},
   "outputs": [],
   "source": [
    "for i in img_path_list:\n",
    "    img = cv2.imread(i)\n",
    "    \n",
    "    \n",
    "    gray = cv2.cvtColor(img , cv2.COLOR_BGR2GRAY)\n",
    "\n",
    "    detector = cv2.CascadeClassifier(\"haarcascade_frontalcatface.xml\")\n",
    "    rects = detector.detectMultiScale(gray ,minNeighbors = 2, scaleFactor = 1.045)\n",
    "\n",
    "    for (i , (x,y,w,h)) in enumerate (rects):\n",
    "        cv2.rectangle(img ,(x,y),(x + w,y+h),(255,255,255),3)\n",
    "\n",
    "    cv2.imshow(\"img\",img)\n",
    "    if cv2.waitKey(0) & 0xFF == ord(\"q\"):\n",
    "        continue\n",
    "\n",
    "cv2.destroyAllWindows()    "
   ]
  },
  {
   "cell_type": "code",
   "execution_count": null,
   "id": "c518b03c",
   "metadata": {},
   "outputs": [],
   "source": []
  },
  {
   "cell_type": "code",
   "execution_count": null,
   "id": "60d4c972",
   "metadata": {},
   "outputs": [],
   "source": []
  },
  {
   "cell_type": "code",
   "execution_count": null,
   "id": "9aae5b5c",
   "metadata": {},
   "outputs": [],
   "source": []
  },
  {
   "cell_type": "code",
   "execution_count": null,
   "id": "e93b06cc",
   "metadata": {},
   "outputs": [],
   "source": []
  },
  {
   "cell_type": "code",
   "execution_count": null,
   "id": "8c7b75ed",
   "metadata": {},
   "outputs": [],
   "source": []
  },
  {
   "cell_type": "code",
   "execution_count": null,
   "id": "8f3672ad",
   "metadata": {},
   "outputs": [],
   "source": []
  }
 ],
 "metadata": {
  "kernelspec": {
   "display_name": "Python 3",
   "language": "python",
   "name": "python3"
  },
  "language_info": {
   "codemirror_mode": {
    "name": "ipython",
    "version": 3
   },
   "file_extension": ".py",
   "mimetype": "text/x-python",
   "name": "python",
   "nbconvert_exporter": "python",
   "pygments_lexer": "ipython3",
   "version": "3.11.4"
  }
 },
 "nbformat": 4,
 "nbformat_minor": 5
}
