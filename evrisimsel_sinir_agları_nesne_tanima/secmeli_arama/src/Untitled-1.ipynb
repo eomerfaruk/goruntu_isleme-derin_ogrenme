{
 "cells": [
  {
   "cell_type": "code",
   "execution_count": 1,
   "id": "cc6b8fc8",
   "metadata": {},
   "outputs": [],
   "source": [
    "import os \n",
    "import cv2 \n",
    "import numpy as np \n",
    "import random "
   ]
  },
  {
   "cell_type": "code",
   "execution_count": 2,
   "id": "2e773f07",
   "metadata": {},
   "outputs": [],
   "source": [
    "os.chdir(\"d:\\\\Desktop\\\\goruntu_isleme-derin_ogrenme\\\\evrisimsel_sinir_agları_nesne_tanima\\\\secmeli_arama\\\\input\")"
   ]
  },
  {
   "cell_type": "code",
   "execution_count": null,
   "id": "f5c5a353",
   "metadata": {},
   "outputs": [],
   "source": [
    "image = cv2.imread(\"pyramid.jpg\")\n",
    "image = cv2.resize(image, dsize = (600,600))\n",
    "cv2.imshow(\"image\",image)\n",
    "\n",
    "# ilklendir ss\n",
    "ss = cv2.ximgproc.segmentation.createSelectiveSearchSegmentation()\n",
    "ss.setBaseImage(image)\n",
    "ss.switchToSelectiveSearchQuality()\n",
    "\n",
    "print(\"start\")\n",
    "rects = ss.process()\n",
    "\n",
    "output = image.copy()\n",
    "\n",
    "for (x,y,w,h) in rects[:50]:\n",
    "    color = [random.randint(0,255) for j in range(0,3)]\n",
    "    cv2.rectangle(output, (x,y),(x+w,y+h),color,2)\n",
    "    \n",
    "cv2.imshow(\"output\",output)"
   ]
  },
  {
   "cell_type": "code",
   "execution_count": null,
   "id": "987b43cc",
   "metadata": {},
   "outputs": [],
   "source": []
  },
  {
   "cell_type": "code",
   "execution_count": null,
   "id": "2769cf4e",
   "metadata": {},
   "outputs": [],
   "source": []
  },
  {
   "cell_type": "code",
   "execution_count": null,
   "id": "05bf3acd",
   "metadata": {},
   "outputs": [],
   "source": []
  },
  {
   "cell_type": "code",
   "execution_count": null,
   "id": "949d8014",
   "metadata": {},
   "outputs": [],
   "source": []
  },
  {
   "cell_type": "code",
   "execution_count": null,
   "id": "68bb1708",
   "metadata": {},
   "outputs": [],
   "source": []
  },
  {
   "cell_type": "code",
   "execution_count": null,
   "id": "92331c62",
   "metadata": {},
   "outputs": [],
   "source": []
  }
 ],
 "metadata": {
  "kernelspec": {
   "display_name": "Python 3",
   "language": "python",
   "name": "python3"
  },
  "language_info": {
   "codemirror_mode": {
    "name": "ipython",
    "version": 3
   },
   "file_extension": ".py",
   "mimetype": "text/x-python",
   "name": "python",
   "nbconvert_exporter": "python",
   "pygments_lexer": "ipython3",
   "version": "3.11.4"
  }
 },
 "nbformat": 4,
 "nbformat_minor": 5
}
