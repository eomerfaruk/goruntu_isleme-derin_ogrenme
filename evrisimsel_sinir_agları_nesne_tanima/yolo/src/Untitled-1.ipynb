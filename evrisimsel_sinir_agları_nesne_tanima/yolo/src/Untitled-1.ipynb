{
 "cells": [
  {
   "cell_type": "code",
   "execution_count": null,
   "id": "11a841dd",
   "metadata": {},
   "outputs": [],
   "source": [
    "import cv2\n",
    "import numpy as np\n",
    "from yolo_model import YOLO\n",
    "\n",
    "yolo = YOLO(0.6, 0.5)\n",
    "file = \"data/coco_classes.txt\"\n",
    "\n",
    "with open(file) as f:\n",
    "    class_name = f.readlines()\n",
    "    \n",
    "all_classes = [c.strip() for c in class_name]\n",
    "\n",
    "f = \"dog_cat.jpg\"\n",
    "path = \"images/\"+f\n",
    "image = cv2.imread(path)\n",
    "cv2.imshow(\"image\",image)\n",
    "\n",
    "pimage = cv2.resize(image, (416,416))\n",
    "pimage = np.array(pimage, dtype = \"float32\")\n",
    "pimage /= 255.0\n",
    "pimage = np.expand_dims(pimage, axis = 0)\n",
    "\n",
    "# yolo\n",
    "boxes, classes, scores = yolo.predict(pimage, image.shape)\n",
    "\n",
    "for box, score, cl in zip(boxes, scores, classes):\n",
    "    \n",
    "    x,y,w,h = box\n",
    "    \n",
    "    top = max(0, np.floor(x + 0.5).astype(int))\n",
    "    left = max(0, np.floor(y + 0.5).astype(int))\n",
    "    right = max(0, np.floor(x + w + 0.5).astype(int))\n",
    "    bottom = max(0, np.floor(y + h + 0.5).astype(int))\n",
    "\n",
    "    cv2.rectangle(image, (top,left), (right, bottom),(255,0,0),2)\n",
    "    cv2.putText(image, \"{} {}\".format(all_classes[cl],score),(top,left-6),cv2.FONT_HERSHEY_SIMPLEX,0.6,(0,0,255),1,cv2.LINE_AA)\n",
    "    \n",
    "cv2.imshow(\"yolo\",image)    \n"
   ]
  }
 ],
 "metadata": {
  "language_info": {
   "name": "python"
  }
 },
 "nbformat": 4,
 "nbformat_minor": 5
}
