{
 "cells": [
  {
   "cell_type": "code",
   "execution_count": 2,
   "id": "4c8641a4",
   "metadata": {},
   "outputs": [],
   "source": [
    "import cv2\n",
    "import os \n",
    "import numpy as np\n",
    "from matplotlib import pyplot as plt "
   ]
  },
  {
   "cell_type": "code",
   "execution_count": 4,
   "id": "eab4a19a",
   "metadata": {},
   "outputs": [],
   "source": [
    "os.chdir(\"d:\\\\Desktop\\\\goruntu_isleme-derin_ogrenme\\\\evrisimsel_sinir_agları_nesne_tanima\\\\resnet\\\\piramit_gosterimi\\\\input\")"
   ]
  },
  {
   "cell_type": "code",
   "execution_count": 7,
   "id": "fe873feb",
   "metadata": {},
   "outputs": [],
   "source": [
    "def img_pyramid(img , scale = 1.5,minsize = (224,224)):\n",
    "    \n",
    "    yield img \n",
    "    while True:\n",
    "        \n",
    "        w= int(img.shape[1] / scale)\n",
    "        img = cv2.resize(img , dsize = (w,w))\n",
    "\n",
    "        if img.shape[0] < minsize[1] or img.shape[1] < minsize[0]:\n",
    "            break\n",
    "\n",
    "        yield img "
   ]
  },
  {
   "cell_type": "code",
   "execution_count": 8,
   "id": "f66ab3c0",
   "metadata": {},
   "outputs": [],
   "source": [
    "img = cv2.imread(\"husky.jpg\")"
   ]
  },
  {
   "cell_type": "code",
   "execution_count": 12,
   "id": "f11099bd",
   "metadata": {},
   "outputs": [
    {
     "name": "stdout",
     "output_type": "stream",
     "text": [
      "0\n",
      "1\n",
      "2\n",
      "3\n",
      "4\n",
      "5\n",
      "6\n",
      "7\n",
      "8\n",
      "9\n",
      "10\n"
     ]
    },
    {
     "data": {
      "image/png": "[encoded data removed]",
      "text/plain": [
       "<Figure size 640x480 with 1 Axes>"
      ]
     },
     "metadata": {},
     "output_type": "display_data"
    }
   ],
   "source": [
    "im = img_pyramid(img,1.5,(10,10))\n",
    "for i , image in enumerate(im):\n",
    "    print(i)\n",
    "    if i == 8:\n",
    "        plt.imshow(image)"
   ]
  },
  {
   "cell_type": "code",
   "execution_count": null,
   "id": "dbce69f5",
   "metadata": {},
   "outputs": [],
   "source": []
  },
  {
   "cell_type": "code",
   "execution_count": null,
   "id": "99ac5c5e",
   "metadata": {},
   "outputs": [],
   "source": []
  }
 ],
 "metadata": {
  "kernelspec": {
   "display_name": "Python 3",
   "language": "python",
   "name": "python3"
  },
  "language_info": {
   "codemirror_mode": {
    "name": "ipython",
    "version": 3
   },
   "file_extension": ".py",
   "mimetype": "text/x-python",
   "name": "python",
   "nbconvert_exporter": "python",
   "pygments_lexer": "ipython3",
   "version": "3.11.4"
  }
 },
 "nbformat": 4,
 "nbformat_minor": 5
}
