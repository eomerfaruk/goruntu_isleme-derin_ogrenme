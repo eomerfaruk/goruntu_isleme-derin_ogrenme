{
 "cells": [
  {
   "cell_type": "code",
   "execution_count": null,
   "id": "cb5bebe0",
   "metadata": {},
   "outputs": [],
   "source": [
    "import numpy as np\n",
    "import os\n",
    "import cv2\n",
    "\n",
    "CLASSES = [\"background\", \"aeroplane\", \"bicycle\", \"bird\", \"boat\",\n",
    "\t\"bottle\", \"bus\", \"car\", \"cat\", \"chair\", \"cow\", \"diningtable\",\n",
    "\t\"dog\", \"horse\", \"motorbike\", \"person\", \"pottedplant\", \"sheep\",\n",
    "\t\"sofa\", \"train\", \"tvmonitor\"]\n",
    "\n",
    "COLORS = np.random.uniform(0,255,size=(len(CLASSES),3))\n",
    "\n",
    "net = cv2.dnn.readNetFromCaffe(\"MobileNetSSD_deploy.prototxt.txt\", \"MobileNetSSD_deploy.caffemodel\")\n",
    "\n",
    "vc = cv2.VideoCapture(0) # ismini degistir\n",
    "vc.set(3,800)\n",
    "vc.set(4,600)\n",
    "        \n",
    "while True:\n",
    "    \n",
    "    success, image = vc.read()\n",
    "    (h,w) = image.shape[:2]\n",
    "    blob = cv2.dnn.blobFromImage(cv2.resize(image,(300, 300)), 0.007843,(300, 300), 127.5)\n",
    "    \n",
    "    net.setInput(blob)\n",
    "    detections = net.forward()\n",
    "    \n",
    "    for j in np.arange(0, detections.shape[2]):\n",
    "        \n",
    "        confidence = detections[0,0,j,2]\n",
    "        \n",
    "        if confidence > 0.10:\n",
    "            \n",
    "            idx = int(detections[0,0,j,1])\n",
    "            box = detections[0,0,j,3:7]*np.array([w,h,w,h])\n",
    "            (startX, startY, endX, endY) = box.astype(\"int\")\n",
    "            \n",
    "            label = \"{}: {}\".format(CLASSES[idx], confidence)\n",
    "            cv2.rectangle(image, (startX, startY), (endX, endY), COLORS[idx],2)\n",
    "            y = startY - 16 if startY -16 >15 else startY + 16\n",
    "            cv2.putText(image, label, (startX,y),cv2.FONT_HERSHEY_SIMPLEX, 0.5,COLORS[idx],2)\n",
    "            \n",
    "    cv2.imshow(\"ssd\",image)\n",
    "    if cv2.waitKey(1) & 0xFF == ord(\"q\"): break\n",
    "    \n",
    "    "
   ]
  }
 ],
 "metadata": {
  "language_info": {
   "name": "python"
  }
 },
 "nbformat": 4,
 "nbformat_minor": 5
}
